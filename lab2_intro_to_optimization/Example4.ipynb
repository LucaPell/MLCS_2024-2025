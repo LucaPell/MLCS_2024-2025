{
 "cells": [
  {
   "cell_type": "code",
   "execution_count": null,
   "metadata": {},
   "outputs": [],
   "source": [
    "import torch \n",
    "import matplotlib.pyplot as plt\n",
    "%matplotlib inline\n",
    "from ipywidgets import interact, fixed, IntSlider, FloatSlider\n",
    "import numpy as np\n",
    "\n",
    "from lab2 import grad, GD, momentum, Nesterov, plot_3D, plot_3D_GD, plot_2D_GD_interactive, err"
   ]
  },
  {
   "cell_type": "markdown",
   "metadata": {},
   "source": [
    "## Hard examples/Importance of the learning rate"
   ]
  },
  {
   "cell_type": "code",
   "execution_count": null,
   "metadata": {},
   "outputs": [],
   "source": [
    "def ackley(x,y):\n",
    "    return -20*torch.exp(-0.2*torch.sqrt(0.5*(x**2+y**2)))-torch.exp(0.5*(torch.cos(2*torch.pi*x)+torch.cos(2*torch.pi*y)))+torch.exp(torch.Tensor([1]))+20\n",
    "x = torch.linspace(-4,4,200).requires_grad_(True)\n",
    "y = torch.linspace(-4,4,200).requires_grad_(True)\n",
    "\n",
    "plot_3D(x,y,ackley)"
   ]
  },
  {
   "cell_type": "markdown",
   "metadata": {},
   "source": [
    "### GD"
   ]
  },
  {
   "cell_type": "code",
   "execution_count": null,
   "metadata": {},
   "outputs": [],
   "source": [
    "x_0, y_0 = -2, 3\n",
    "learning_rate = 0.2\n",
    "num_epochs = 10 \n",
    "\n",
    "gd = GD(x_0,y_0,learning_rate,num_epochs,ackley)\n",
    "\n",
    "plot_3D_GD(x,y,gd[:,0],gd[:,1],ackley)"
   ]
  },
  {
   "cell_type": "code",
   "execution_count": null,
   "metadata": {},
   "outputs": [],
   "source": [
    "%matplotlib inline\n",
    "_ = interact(plot_2D_GD_interactive, \n",
    "            method = fixed('gd'),\n",
    "             x = fixed(x), \n",
    "             y = fixed(y), \n",
    "             x_min = fixed(1), \n",
    "             y_min = fixed(1), \n",
    "             fun = fixed(ackley), \n",
    "             x_0 = FloatSlider(min=-4, max=4, step=0.1, value=-2),\n",
    "             y_0 = FloatSlider(min=-4, max=4, step=0.1, value=-3),\n",
    "             eta = FloatSlider(min = 0, max = 1, step = 0.01, value=0.2), \n",
    "             num_epochs = IntSlider(min = 1, max = 100, step = 1, value=10))"
   ]
  },
  {
   "cell_type": "markdown",
   "metadata": {},
   "source": [
    "### Momentum\n"
   ]
  },
  {
   "cell_type": "code",
   "execution_count": null,
   "metadata": {},
   "outputs": [],
   "source": [
    "V = torch.zeros(2)\n",
    "beta = 0.6\n",
    "mom = momentum(x_0,y_0,V,beta,learning_rate,num_epochs,ackley)\n",
    "plot_3D_GD(x,y,mom[:,0],mom[:,1],ackley)"
   ]
  },
  {
   "cell_type": "code",
   "execution_count": null,
   "metadata": {},
   "outputs": [],
   "source": [
    "%matplotlib inline\n",
    "_ = interact(plot_2D_GD_interactive, \n",
    "            method = fixed('momentum'),\n",
    "             x = fixed(x), \n",
    "             y = fixed(y), \n",
    "             x_min = fixed(1), \n",
    "             y_min = fixed(1), \n",
    "             fun = fixed(ackley), \n",
    "             x_0 = FloatSlider(min=-4, max=4, step=0.1, value=-2),\n",
    "             y_0 = FloatSlider(min=-4, max=4, step=0.1, value=-3),\n",
    "             eta = FloatSlider(min = 0, max = 1, step = 0.01, value=0.2), \n",
    "             num_epochs = IntSlider(min = 1, max = 100, step = 1, value=10))"
   ]
  },
  {
   "cell_type": "markdown",
   "metadata": {},
   "source": [
    "### Nesterov"
   ]
  },
  {
   "cell_type": "code",
   "execution_count": null,
   "metadata": {},
   "outputs": [],
   "source": [
    "nes = Nesterov(x_0,y_0,V,beta,learning_rate,num_epochs,ackley)\n",
    "plot_3D_GD(x,y,nes[:,0],nes[:,1],ackley)"
   ]
  },
  {
   "cell_type": "code",
   "execution_count": null,
   "metadata": {},
   "outputs": [],
   "source": [
    "%matplotlib inline\n",
    "_ = interact(plot_2D_GD_interactive, \n",
    "            method = fixed('nesterov'),\n",
    "             x = fixed(x), \n",
    "             y = fixed(y), \n",
    "             x_min = fixed(1), \n",
    "             y_min = fixed(1), \n",
    "             fun = fixed(ackley), \n",
    "             x_0 = FloatSlider(min=-4, max=4, step=0.1, value=-2),\n",
    "             y_0 = FloatSlider(min=-4, max=4, step=0.1, value=-3),\n",
    "             eta = FloatSlider(min = 0, max = 1, step = 0.01, value=0.2), \n",
    "             num_epochs = IntSlider(min = 1, max = 100, step = 1, value=10))"
   ]
  },
  {
   "cell_type": "code",
   "execution_count": null,
   "metadata": {},
   "outputs": [],
   "source": [
    "min_glob = torch.Tensor([0,0])\n",
    "dist_err_gd = err(gd,min_glob,ackley)\n",
    "dist_err_mom = err(mom,min_glob,ackley)\n",
    "dist_err_nes = err(nes,min_glob,ackley)\n",
    "\n",
    "N = range(num_epochs)\n",
    "with torch.inference_mode():\n",
    "    plt.semilogy(N,dist_err_gd, marker = 'o', label = 'GD')\n",
    "    plt.semilogy(N,dist_err_mom,marker = 'x', label = 'Momentum')\n",
    "    plt.semilogy(N,dist_err_nes,marker = 'd', label = 'Nesterov')\n",
    "\n",
    "    plt.grid()\n",
    "    plt.xlabel('Epochs')\n",
    "    plt.title('Distance from the global min')\n",
    "    plt.legend()\n",
    "    plt.show()"
   ]
  },
  {
   "cell_type": "markdown",
   "metadata": {},
   "source": [
    "### Changing the learning rate"
   ]
  },
  {
   "cell_type": "code",
   "execution_count": null,
   "metadata": {},
   "outputs": [],
   "source": [
    "learning_rate = 0.2\n",
    "num_epochs = 30\n",
    "\n",
    "gd = GD(x_0,y_0,learning_rate,num_epochs,ackley)\n",
    "\n",
    "plot_3D_GD(x,y,gd[:,0],gd[:,1],ackley)"
   ]
  },
  {
   "cell_type": "code",
   "execution_count": null,
   "metadata": {},
   "outputs": [],
   "source": [
    "%matplotlib inline\n",
    "_ = interact(plot_2D_GD_interactive, \n",
    "            method = fixed('nesterov'),\n",
    "             x = fixed(x), \n",
    "             y = fixed(y), \n",
    "             x_min = fixed(1), \n",
    "             y_min = fixed(1), \n",
    "             fun = fixed(ackley), \n",
    "             x_0 = FloatSlider(min=-4, max=4, step=0.1, value=-2),\n",
    "             y_0 = FloatSlider(min=-4, max=4, step=0.1, value=-3),\n",
    "             eta = FloatSlider(min = 0, max = 1, step = 0.01, value=0.2), \n",
    "             num_epochs = IntSlider(min = 1, max = 100, step = 1, value=10))"
   ]
  },
  {
   "cell_type": "code",
   "execution_count": null,
   "metadata": {},
   "outputs": [],
   "source": [
    "def step_LR(lr_0,num_epochs,step,gamma):\n",
    "    lr = np.zeros(num_epochs)\n",
    "    lr[0] = lr_0\n",
    "    assert step>0\n",
    "    for i in range(1,num_epochs):\n",
    "        if i%step == 0:\n",
    "            lr[i] = gamma*lr[i-1]\n",
    "        else:\n",
    "            lr[i] = lr[i-1]\n",
    "    return lr\n"
   ]
  },
  {
   "cell_type": "code",
   "execution_count": null,
   "metadata": {},
   "outputs": [],
   "source": [
    "step = 5\n",
    "gamma = 0.55\n",
    "lr = step_LR(learning_rate,num_epochs,step,gamma)\n",
    "gd_step = GD(x_0,y_0,lr,num_epochs,ackley)\n",
    "\n",
    "plot_3D_GD(x,y,gd_step[:,0],gd_step[:,1],ackley)"
   ]
  },
  {
   "cell_type": "code",
   "execution_count": null,
   "metadata": {},
   "outputs": [],
   "source": [
    "%matplotlib inline\n",
    "_ = interact(plot_2D_GD_interactive, \n",
    "            method = fixed('nesterov'),\n",
    "             x = fixed(x), \n",
    "             y = fixed(y), \n",
    "             x_min = fixed(1), \n",
    "             y_min = fixed(1), \n",
    "             fun = fixed(ackley), \n",
    "             x_0 = FloatSlider(min=-4, max=4, step=0.1, value=-2),\n",
    "             y_0 = FloatSlider(min=-4, max=4, step=0.1, value=-3),\n",
    "             eta = FloatSlider(min = 0, max = 1, step = 0.01, value=0.2), \n",
    "             num_epochs = IntSlider(min = 1, max = 100, step = 1, value=10))"
   ]
  },
  {
   "cell_type": "code",
   "execution_count": null,
   "metadata": {},
   "outputs": [],
   "source": [
    "N = range(num_epochs)\n",
    "dist_err_gd = err(gd,min_glob,ackley)\n",
    "dist_err_gd_step = err(gd_step,min_glob,ackley)\n",
    "with torch.inference_mode():\n",
    "    plt.semilogy(N,dist_err_gd_step, marker = 'o', label = 'Step scheduler')\n",
    "    plt.semilogy(N,dist_err_gd, marker = 'x', label = 'Without scheduler')\n",
    "\n",
    "    plt.legend()\n",
    "    plt.xlabel('Epochs')\n",
    "    plt.grid()\n",
    "    plt.show()"
   ]
  }
 ],
 "metadata": {
  "kernelspec": {
   "display_name": "torch",
   "language": "python",
   "name": "python3"
  },
  "language_info": {
   "codemirror_mode": {
    "name": "ipython",
    "version": 3
   },
   "file_extension": ".py",
   "mimetype": "text/x-python",
   "name": "python",
   "nbconvert_exporter": "python",
   "pygments_lexer": "ipython3",
   "version": "3.12.4"
  }
 },
 "nbformat": 4,
 "nbformat_minor": 2
}
